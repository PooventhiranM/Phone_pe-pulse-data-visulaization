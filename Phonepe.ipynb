{
 "cells": [
  {
   "cell_type": "code",
   "execution_count": 15,
   "metadata": {},
   "outputs": [],
   "source": [
    "import os\n",
    "import git\n",
    "import json\n",
    "import pandas as pd\n",
    "import mysql.connector as mysql\n",
    "from streamlit_option_menu import option_menu"
   ]
  },
  {
   "cell_type": "markdown",
   "metadata": {},
   "source": [
    "# Extracting data from github and cloning into localdisk"
   ]
  },
  {
   "cell_type": "code",
   "execution_count": 16,
   "metadata": {},
   "outputs": [],
   "source": [
    "def data_extraction():\n",
    "    try:\n",
    "        git.Repo.clone_from(\"https://github.com/PhonePe/pulse.git\", 'phonepe_pulse_git')\n",
    "    except:\n",
    "        pass"
   ]
  },
  {
   "cell_type": "markdown",
   "metadata": {},
   "source": [
    "# Collecting data from arggregate transaction folder"
   ]
  },
  {
   "cell_type": "code",
   "execution_count": 17,
   "metadata": {},
   "outputs": [],
   "source": [
    "def Arg_transactions():\n",
    "    try:\n",
    "        path1=\"C:/Users/poove/OneDrive/Desktop/New folder/phonepe_pulse_git/data/aggregated/transaction/country/india/state/\"\n",
    "        arg_path=os.listdir(path1)\n",
    "\n",
    "        Data1={\"State\":[],\"Year\":[],\"Quarter\":[],\"Transaction_type\":[],\"Transaction_count\":[],\"Transaction_amount\":[]}\n",
    "\n",
    "        for state in arg_path:\n",
    "            cur_state=path1+state+\"/\"\n",
    "            arg_state=os.listdir(cur_state)\n",
    "\n",
    "            for year in arg_state:\n",
    "                cur_year=cur_state+year+\"/\"\n",
    "                arg_year=os.listdir(cur_year)\n",
    "\n",
    "                for quarter in arg_year:\n",
    "                    cur_quarter=cur_year+quarter\n",
    "                    Data=open(cur_quarter,\"r\")\n",
    "                    A=json.load(Data)\n",
    "\n",
    "                    for i in A['data']['transactionData']:\n",
    "                        name=i['name']\n",
    "                        count=i['paymentInstruments'][0]['count']\n",
    "                        amount=i['paymentInstruments'][0]['amount']\n",
    "                        Data1['Transaction_type'].append(name)\n",
    "                        Data1['Transaction_count'].append(count)\n",
    "                        Data1['Transaction_amount'].append(amount)\n",
    "                        Data1['State'].append(state)\n",
    "                        Data1['Year'].append(year)\n",
    "                        Data1['Quarter'].append(int(quarter.strip(\".json\")))\n",
    "        return Data1\n",
    "    except:\n",
    "        pass"
   ]
  },
  {
   "cell_type": "markdown",
   "metadata": {},
   "source": [
    "# Collecting data from arggregate user folder"
   ]
  },
  {
   "cell_type": "code",
   "execution_count": 18,
   "metadata": {},
   "outputs": [],
   "source": [
    "def Arg_users():\n",
    "    try:\n",
    "        path2=\"C:/Users/poove/OneDrive/Desktop/New folder/phonepe_pulse_git/data/aggregated/user/country/india/state/\"\n",
    "        arg_user=os.listdir(path2)\n",
    "\n",
    "        Data2={\"State\":[],\"Year\":[],\"Quarter\":[],\"Brands\":[],\"Users_count\":[],\"Percentage\":[]}\n",
    "\n",
    "        for state in arg_user:\n",
    "            cur_state=path2+state+\"/\"\n",
    "            arg_state=os.listdir(cur_state)\n",
    "\n",
    "            for year in arg_state:\n",
    "                cur_year=cur_state+year+\"/\"\n",
    "                arg_year=os.listdir(cur_year)\n",
    "\n",
    "                for quarter in arg_year:\n",
    "                    cur_quarter=cur_year+quarter\n",
    "                    Data=open(cur_quarter,\"r\")\n",
    "                    B=json.load(Data)\n",
    "                    try:\n",
    "                        for i in B['data']['usersByDevice']:\n",
    "                            brand=i['brand']\n",
    "                            count=i['count']\n",
    "                            percentage=i['percentage']\n",
    "                            Data2['Brands'].append(brand)\n",
    "                            Data2['Users_count'].append(count)\n",
    "                            Data2['Percentage'].append(percentage)\n",
    "                            Data2['State'].append(state)\n",
    "                            Data2['Year'].append(year)\n",
    "                            Data2['Quarter'].append(int(quarter.strip(\".json\")))\n",
    "                    except:\n",
    "                        pass\n",
    "        return Data2\n",
    "    except:\n",
    "        pass"
   ]
  },
  {
   "cell_type": "markdown",
   "metadata": {},
   "source": [
    "# Collecting data from map transaction folder"
   ]
  },
  {
   "cell_type": "code",
   "execution_count": 19,
   "metadata": {},
   "outputs": [],
   "source": [
    "def Map_transactions():\n",
    "    try:\n",
    "        path3=\"C:/Users/poove/OneDrive/Desktop/New folder/phonepe_pulse_git/data/map/transaction/hover/country/india/state/\"\n",
    "        map_transaction=os.listdir(path3)\n",
    "\n",
    "        Data3={\"State\":[],\"Year\":[],\"Quarter\":[],\"District\":[],\"Transaction_count\":[],\"Transaction_amount\":[]}\n",
    "\n",
    "        for state in map_transaction:\n",
    "            cur_state=path3+state+\"/\"\n",
    "            map_state=os.listdir(cur_state)\n",
    "\n",
    "            for year in map_state:\n",
    "                cur_year=cur_state+year+\"/\"\n",
    "                map_year=os.listdir(cur_year)\n",
    "\n",
    "                for quarter in map_year:\n",
    "                    cur_quarter=cur_year+quarter\n",
    "                    Data=open(cur_quarter,\"r\")\n",
    "                    C=json.load(Data)\n",
    "\n",
    "                    for i in C['data']['hoverDataList']:\n",
    "                        name=i['name']\n",
    "                        count=i['metric'][0]['count']\n",
    "                        amount=i['metric'][0]['amount']\n",
    "                        Data3['District'].append(name)\n",
    "                        Data3['Transaction_count'].append(count)\n",
    "                        Data3['Transaction_amount'].append(amount)\n",
    "                        Data3['State'].append(state)\n",
    "                        Data3['Year'].append(year)\n",
    "                        Data3['Quarter'].append(int(quarter.strip(\".json\")))\n",
    "        return Data3\n",
    "    except:\n",
    "        pass"
   ]
  },
  {
   "cell_type": "markdown",
   "metadata": {},
   "source": [
    "# Collecting data from mao user folder"
   ]
  },
  {
   "cell_type": "code",
   "execution_count": 20,
   "metadata": {},
   "outputs": [],
   "source": [
    "def Map_users():\n",
    "    try:\n",
    "        path4=\"C:/Users/poove/OneDrive/Desktop/New folder/phonepe_pulse_git/data/map/user/hover/country/india/state/\"\n",
    "        map_hover_users=os.listdir(path4)\n",
    "\n",
    "        Data4={\"State\":[],\"Year\":[],\"Quarter\":[],\"District\":[],\"Registered_users\":[],\"App_open_count\":[]}\n",
    "\n",
    "        for state in map_hover_users:\n",
    "                cur_state=path4+state+\"/\"\n",
    "                map_state=os.listdir(cur_state)\n",
    "\n",
    "                for year in map_state:\n",
    "                    cur_year=cur_state+year+\"/\"\n",
    "                    map_year=os.listdir(cur_year)\n",
    "\n",
    "                    for quarter in map_year:\n",
    "                        cur_quarter=cur_year+quarter\n",
    "                        Data=open(cur_quarter,\"r\")\n",
    "\n",
    "                        D=json.load(Data)\n",
    "\n",
    "                        for i in D['data']['hoverData'].items():\n",
    "                            district=i[0]\n",
    "                            registered_users=i[1]['registeredUsers']\n",
    "                            app_open_count=i[1]['appOpens']\n",
    "                            Data4['District'].append(district)\n",
    "                            Data4['Registered_users'].append(registered_users)\n",
    "                            Data4['App_open_count'].append(app_open_count)\n",
    "                            Data4['State'].append(state)\n",
    "                            Data4['Year'].append(year)\n",
    "                            Data4['Quarter'].append(int(quarter.strip(\"..json\")))\n",
    "        return Data4\n",
    "    except:\n",
    "         pass"
   ]
  },
  {
   "cell_type": "markdown",
   "metadata": {},
   "source": [
    "# Collecting data from top district transaction folder"
   ]
  },
  {
   "cell_type": "code",
   "execution_count": 21,
   "metadata": {},
   "outputs": [],
   "source": [
    "def Top_district_transactions():\n",
    "    try:\n",
    "        path5=\"C:/Users/poove/OneDrive/Desktop/New folder/phonepe_pulse_git/data/top/transaction/country/india/state/\"\n",
    "        top_trans=os.listdir(path5)\n",
    "\n",
    "        Data5={\"State\":[],\"Year\":[],\"Quarter\":[],\"District\":[],\"Transaction_count\":[],\"Transaction_amount\":[]}\n",
    "\n",
    "        for state in top_trans:\n",
    "            cur_state=path5+state+\"/\"\n",
    "            top_state=os.listdir(cur_state)\n",
    "\n",
    "            for year in top_state:\n",
    "                cur_year=cur_state+year+\"/\"\n",
    "                top_year=os.listdir(cur_year)\n",
    "\n",
    "                for quarter in top_year:\n",
    "                    cur_quarter=cur_year+quarter\n",
    "                    Data=open(cur_quarter,\"r\")\n",
    "\n",
    "                    E=json.load(Data)\n",
    "\n",
    "                    for i in E['data']['districts']:\n",
    "                        name=i['entityName']\n",
    "                        count=i['metric']['count']\n",
    "                        amount=i['metric']['amount']\n",
    "                        Data5['District'].append(name)\n",
    "                        Data5['Transaction_count'].append(count)\n",
    "                        Data5['Transaction_amount'].append(amount)\n",
    "                        Data5['State'].append(state)\n",
    "                        Data5['Year'].append(year)\n",
    "                        Data5['Quarter'].append(int(quarter.strip(\".json\")))\n",
    "        return Data5\n",
    "    except():\n",
    "        pass"
   ]
  },
  {
   "cell_type": "markdown",
   "metadata": {},
   "source": [
    "# Collecting data from top pincode transaction folder"
   ]
  },
  {
   "cell_type": "code",
   "execution_count": 22,
   "metadata": {},
   "outputs": [],
   "source": [
    "def Top_pincode_transactions():\n",
    "    try:\n",
    "        path5=\"C:/Users/poove/OneDrive/Desktop/New folder/phonepe_pulse_git/data/top/transaction/country/india/state/\"\n",
    "        top_trans=os.listdir(path5)\n",
    "        Data6={\"State\":[],\"Year\":[],\"Quarter\":[],\"Pincode\":[],\"Transaction_count\":[],\"Transaction_amount\":[]}\n",
    "\n",
    "        for state in top_trans:\n",
    "            cur_state=path5+state+\"/\"\n",
    "            top_state=os.listdir(cur_state)\n",
    "\n",
    "            for year in top_state:\n",
    "                cur_year=cur_state+year+\"/\"\n",
    "                top_year=os.listdir(cur_year)\n",
    "\n",
    "                for quarter in top_year:\n",
    "                    cur_quarter=cur_year+quarter\n",
    "                    Data=open(cur_quarter,\"r\")\n",
    "\n",
    "                    F=json.load(Data)\n",
    "\n",
    "                    for i in F['data']['pincodes']:\n",
    "                        name=i['entityName']\n",
    "                        count=i['metric']['count']\n",
    "                        amount=i['metric']['amount']\n",
    "                        Data6['Pincode'].append(name)\n",
    "                        Data6['Transaction_count'].append(count)\n",
    "                        Data6['Transaction_amount'].append(amount)\n",
    "                        Data6['State'].append(state)\n",
    "                        Data6['Year'].append(year)\n",
    "                        Data6['Quarter'].append(int(quarter.strip(\".json\")))\n",
    "        return Data6\n",
    "    except:\n",
    "        pass\n"
   ]
  },
  {
   "cell_type": "markdown",
   "metadata": {},
   "source": [
    "# Collecting data from top district user folder"
   ]
  },
  {
   "cell_type": "code",
   "execution_count": 23,
   "metadata": {},
   "outputs": [],
   "source": [
    "def Top_district_users():\n",
    "    try:\n",
    "        path6=\"C:/Users/poove/OneDrive/Desktop/New folder/phonepe_pulse_git/data/top/user/country/india/state/\"\n",
    "        top_user=os.listdir(path6)\n",
    "\n",
    "        Data7={\"State\":[],\"Year\":[],\"Quarter\":[],\"District\":[],\"Registered_users\":[]}\n",
    "\n",
    "        for state in top_user:\n",
    "                cur_state=path6+state+\"/\"\n",
    "                map_state=os.listdir(cur_state)\n",
    "\n",
    "                for year in map_state:\n",
    "                    cur_year=cur_state+year+\"/\"\n",
    "                    map_year=os.listdir(cur_year)\n",
    "\n",
    "                    for quarter in map_year:\n",
    "                        cur_quarter=cur_year+quarter\n",
    "                        Data=open(cur_quarter,\"r\")\n",
    "\n",
    "                        G=json.load(Data)\n",
    "                        \n",
    "                        for i in G['data']['districts']:\n",
    "                            name=i['name']\n",
    "                            registered_users=i['registeredUsers']\n",
    "                            Data7['District'].append(name)\n",
    "                            Data7['Registered_users'].append(registered_users)\n",
    "                            Data7['State'].append(state)\n",
    "                            Data7['Year'].append(year)\n",
    "                            Data7['Quarter'].append(int(quarter.strip(\"..json\")))\n",
    "        return Data7\n",
    "    except:\n",
    "         pass"
   ]
  },
  {
   "cell_type": "markdown",
   "metadata": {},
   "source": [
    "# Collecting data from top pincode user folder"
   ]
  },
  {
   "cell_type": "code",
   "execution_count": 24,
   "metadata": {},
   "outputs": [],
   "source": [
    "def Top_pincode_users():\n",
    "    try:\n",
    "        path6=\"C:/Users/poove/OneDrive/Desktop/New folder/phonepe_pulse_git/data/top/user/country/india/state/\"\n",
    "        top_user=os.listdir(path6)\n",
    "        Data8={\"State\":[],\"Year\":[],\"Quarter\":[],\"Pincode\":[],\"Registered_users\":[]}\n",
    "\n",
    "        for state in top_user:\n",
    "            cur_state=path6+state+\"/\"\n",
    "            map_state=os.listdir(cur_state)\n",
    "\n",
    "            for year in map_state:\n",
    "                cur_year=cur_state+year+\"/\"\n",
    "                map_year=os.listdir(cur_year)\n",
    "\n",
    "                for quarter in map_year:\n",
    "                    cur_quarter=cur_year+quarter\n",
    "                    Data=open(cur_quarter,\"r\")\n",
    "\n",
    "                    G=json.load(Data)\n",
    "                    \n",
    "                    for i in G['data']['pincodes']:\n",
    "                        name=i['name']\n",
    "                        registered_users=i['registeredUsers']\n",
    "                        Data8['Pincode'].append(name)\n",
    "                        Data8['Registered_users'].append(registered_users)\n",
    "                        Data8['State'].append(state)\n",
    "                        Data8['Year'].append(year)\n",
    "                        Data8['Quarter'].append(int(quarter.strip(\"..json\")))\n",
    "        return Data8\n",
    "    except:\n",
    "        pass"
   ]
  },
  {
   "cell_type": "markdown",
   "metadata": {},
   "source": [
    "# calling all the functions"
   ]
  },
  {
   "cell_type": "code",
   "execution_count": 25,
   "metadata": {},
   "outputs": [
    {
     "ename": "FileNotFoundError",
     "evalue": "[WinError 3] The system cannot find the path specified: 'C:/Users/poove/OneDrive/Desktop/New folder/Phonepe/pulse/data/top/transaction/country/india/state/'",
     "output_type": "error",
     "traceback": [
      "\u001b[1;31m---------------------------------------------------------------------------\u001b[0m",
      "\u001b[1;31mFileNotFoundError\u001b[0m                         Traceback (most recent call last)",
      "\u001b[1;32mc:\\Users\\poove\\OneDrive\\Desktop\\New folder\\Phonepe.ipynb Cell 21\u001b[0m line \u001b[0;36m9\n\u001b[0;32m      <a href='vscode-notebook-cell:/c%3A/Users/poove/OneDrive/Desktop/New%20folder/Phonepe.ipynb#X26sZmlsZQ%3D%3D?line=6'>7</a>\u001b[0m Map_transactions\u001b[39m=\u001b[39mpd\u001b[39m.\u001b[39mDataFrame(Map_transactions())\n\u001b[0;32m      <a href='vscode-notebook-cell:/c%3A/Users/poove/OneDrive/Desktop/New%20folder/Phonepe.ipynb#X26sZmlsZQ%3D%3D?line=7'>8</a>\u001b[0m Map_users\u001b[39m=\u001b[39mpd\u001b[39m.\u001b[39mDataFrame(Map_users())\n\u001b[1;32m----> <a href='vscode-notebook-cell:/c%3A/Users/poove/OneDrive/Desktop/New%20folder/Phonepe.ipynb#X26sZmlsZQ%3D%3D?line=8'>9</a>\u001b[0m Top_district_transactions\u001b[39m=\u001b[39mpd\u001b[39m.\u001b[39mDataFrame(Top_district_transactions())\n\u001b[0;32m     <a href='vscode-notebook-cell:/c%3A/Users/poove/OneDrive/Desktop/New%20folder/Phonepe.ipynb#X26sZmlsZQ%3D%3D?line=9'>10</a>\u001b[0m Top_pincode_transactions\u001b[39m=\u001b[39mpd\u001b[39m.\u001b[39mDataFrame(Top_pincode_transactions())\n\u001b[0;32m     <a href='vscode-notebook-cell:/c%3A/Users/poove/OneDrive/Desktop/New%20folder/Phonepe.ipynb#X26sZmlsZQ%3D%3D?line=10'>11</a>\u001b[0m Top_district_users\u001b[39m=\u001b[39mpd\u001b[39m.\u001b[39mDataFrame(Top_district_users())\n",
      "\u001b[1;32mc:\\Users\\poove\\OneDrive\\Desktop\\New folder\\Phonepe.ipynb Cell 21\u001b[0m line \u001b[0;36m4\n\u001b[0;32m      <a href='vscode-notebook-cell:/c%3A/Users/poove/OneDrive/Desktop/New%20folder/Phonepe.ipynb#X26sZmlsZQ%3D%3D?line=1'>2</a>\u001b[0m \u001b[39mtry\u001b[39;00m:\n\u001b[0;32m      <a href='vscode-notebook-cell:/c%3A/Users/poove/OneDrive/Desktop/New%20folder/Phonepe.ipynb#X26sZmlsZQ%3D%3D?line=2'>3</a>\u001b[0m     path5\u001b[39m=\u001b[39m\u001b[39m\"\u001b[39m\u001b[39mC:/Users/poove/OneDrive/Desktop/New folder/Phonepe/pulse/data/top/transaction/country/india/state/\u001b[39m\u001b[39m\"\u001b[39m\n\u001b[1;32m----> <a href='vscode-notebook-cell:/c%3A/Users/poove/OneDrive/Desktop/New%20folder/Phonepe.ipynb#X26sZmlsZQ%3D%3D?line=3'>4</a>\u001b[0m     top_trans\u001b[39m=\u001b[39mos\u001b[39m.\u001b[39;49mlistdir(path5)\n\u001b[0;32m      <a href='vscode-notebook-cell:/c%3A/Users/poove/OneDrive/Desktop/New%20folder/Phonepe.ipynb#X26sZmlsZQ%3D%3D?line=5'>6</a>\u001b[0m     Data5\u001b[39m=\u001b[39m{\u001b[39m\"\u001b[39m\u001b[39mState\u001b[39m\u001b[39m\"\u001b[39m:[],\u001b[39m\"\u001b[39m\u001b[39mYear\u001b[39m\u001b[39m\"\u001b[39m:[],\u001b[39m\"\u001b[39m\u001b[39mQuarter\u001b[39m\u001b[39m\"\u001b[39m:[],\u001b[39m\"\u001b[39m\u001b[39mDistrict\u001b[39m\u001b[39m\"\u001b[39m:[],\u001b[39m\"\u001b[39m\u001b[39mTransaction_count\u001b[39m\u001b[39m\"\u001b[39m:[],\u001b[39m\"\u001b[39m\u001b[39mTransaction_amount\u001b[39m\u001b[39m\"\u001b[39m:[]}\n\u001b[0;32m      <a href='vscode-notebook-cell:/c%3A/Users/poove/OneDrive/Desktop/New%20folder/Phonepe.ipynb#X26sZmlsZQ%3D%3D?line=7'>8</a>\u001b[0m     \u001b[39mfor\u001b[39;00m state \u001b[39min\u001b[39;00m top_trans:\n",
      "\u001b[1;31mFileNotFoundError\u001b[0m: [WinError 3] The system cannot find the path specified: 'C:/Users/poove/OneDrive/Desktop/New folder/Phonepe/pulse/data/top/transaction/country/india/state/'"
     ]
    }
   ],
   "source": [
    "data_extraction()\n",
    "\n",
    "pd.set_option('display.max_columns', None)\n",
    "\n",
    "Arg_transactions=pd.DataFrame(Arg_transactions())\n",
    "Arg_users=pd.DataFrame(Arg_users())\n",
    "Map_transactions=pd.DataFrame(Map_transactions())\n",
    "Map_users=pd.DataFrame(Map_users())\n",
    "Top_district_transactions=pd.DataFrame(Top_district_transactions())\n",
    "Top_pincode_transactions=pd.DataFrame(Top_pincode_transactions())\n",
    "Top_district_users=pd.DataFrame(Top_district_users())\n",
    "Top_pincode_users=pd.DataFrame(Top_pincode_users())\n"
   ]
  },
  {
   "cell_type": "markdown",
   "metadata": {},
   "source": [
    "# Connecting with mysql database and creating tables"
   ]
  },
  {
   "cell_type": "code",
   "execution_count": null,
   "metadata": {},
   "outputs": [],
   "source": [
    "mydb=mysql.connect(host=\"localhost\",\n",
    "                   user=\"root\",\n",
    "                   password=\"Pooventhiran2\",\n",
    "                   port=\"3306\")\n",
    "mycursor=mydb.cursor(buffered=True)\n",
    "\n",
    "mycursor.execute(\"CREATE DATABASE if not exists phonepe_data\")\n",
    "mycursor.execute(\"USE phonepe_data\")\n",
    "\n",
    "mycursor.execute(\"CREATE TABLE if not exists Arg_transactions(State VARCHAR(200),Year INT,Quarter INT,Transaction_type VARCHAR(200),\\\n",
    "                  Transaction_count INT,Transaction_amount FLOAT);\\\n",
    "                  CREATE TABLE if not exists Arg_users(State VARCHAR(200),Year INT,Quarter INT,Brands VARCHAR(100),Users_count int,\\\n",
    "                  Percentage FLOAT);\\\n",
    "                  CREATE TABLE if not exists Map_transactions(State VARCHAR(200),Year INT,Quarter INT,District VARCHAR(200),\\\n",
    "                  Transaction_count INT,Transaction_amount FLOAT);\\\n",
    "                  CREATE TABLE if not exists Map_users(State VARCHAR(200),Year INT,Quarter INT,District VARCHAR(200),\\\n",
    "                  Registered_users INT,App_open_count INT);\\\n",
    "                  CREATE TABLE if not exists Top_district_transactions(State VARCHAR(200),Year INT,Quarter INT,District VARCHAR(200),\\\n",
    "                  Transaction_count INT,Transaction_amount FLOAT);\\\n",
    "                  CREATE TABLE if not exists Top_pincode_transactions(State VARCHAR(200),Year INT,Quarter INT,Pincode INT,\\\n",
    "                  Transaction_count INT,Transaction_amount FLOAT);\\\n",
    "                  CREATE TABLE if not exists Top_district_users(State VARCHAR(200),Year INT,Quarter INT,District VARCHAR(200),\\\n",
    "                  Registered_users INT);\\\n",
    "                  CREATE TABLE if not exists Top_pincode_users(State VARCHAR(200),Year INT,Quarter INT,Pincode INT,\\\n",
    "                  Registered_users INT);\")\n",
    "mydb.close()"
   ]
  },
  {
   "cell_type": "markdown",
   "metadata": {},
   "source": [
    "# Inserting the datas into mysql database"
   ]
  },
  {
   "cell_type": "code",
   "execution_count": null,
   "metadata": {},
   "outputs": [],
   "source": [
    "mydb=mysql.connect(host=\"localhost\",\n",
    "                   user=\"root\",\n",
    "                   password=\"Pooventhiran2\",\n",
    "                   port=\"3306\",\n",
    "                   database=\"phonepe_data\"\n",
    "                   )\n",
    "mycursor=mydb.cursor(buffered=True)\n",
    "\n",
    "mycursor.executemany(\"INSERT INTO Arg_transactions(State,Year,Quarter,Transaction_type,Transaction_count,Transaction_amount)VALUES(%s,%s,%s,%s,%s,%s)\",Arg_transactions.values.tolist())\n",
    "mycursor.executemany(\"INSERT INTO Arg_users(State,Year,Quarter,Brands,Users_count,Percentage)VALUES(%s,%s,%s,%s,%s,%s)\",Arg_users.values.tolist())\n",
    "mycursor.executemany(\"INSERT INTO Map_transactions(State,Year,Quarter,District,Transaction_count,Transaction_amount)VALUES(%s,%s,%s,%s,%s,%s)\",Map_transactions.values.tolist())\n",
    "mycursor.executemany(\"INSERT INTO Map_users(State,Year,Quarter,District,Registered_users,App_open_count)VALUES(%s,%s,%s,%s,%s,%s)\",Map_users.values.tolist())\n",
    "mycursor.executemany(\"INSERT INTO Top_district_transactions(State,Year,Quarter,District,Transaction_count,Transaction_amount)VALUES(%s,%s,%s,%s,%s,%s)\",Top_district_transactions.values.tolist())\n",
    "mycursor.executemany(\"INSERT INTO Top_pincode_transactions(State,Year,Quarter,Pincode,Transaction_count,Transaction_amount)VALUES(%s,%s,%s,%s,%s,%s)\",Top_pincode_transactions.values.tolist())\n",
    "mycursor.executemany(\"INSERT INTO Top_district_users(State,Year,Quarter,District,Registered_users)VALUES(%s,%s,%s,%s,%s)\",Top_district_users.values.tolist())\n",
    "mycursor.executemany(\"INSERT INTO Top_pincode_users(State,Year,Quarter,Pincode,Registered_users)VALUES(%s,%s,%s,%s,%s)\",Top_pincode_users.values.tolist())\n",
    "\n",
    "mydb.commit()\n",
    "mydb.close()"
   ]
  },
  {
   "cell_type": "markdown",
   "metadata": {},
   "source": []
  }
 ],
 "metadata": {
  "kernelspec": {
   "display_name": "myenv",
   "language": "python",
   "name": "python3"
  },
  "language_info": {
   "codemirror_mode": {
    "name": "ipython",
    "version": 3
   },
   "file_extension": ".py",
   "mimetype": "text/x-python",
   "name": "python",
   "nbconvert_exporter": "python",
   "pygments_lexer": "ipython3",
   "version": "3.11.4"
  }
 },
 "nbformat": 4,
 "nbformat_minor": 2
}
